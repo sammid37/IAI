{
 "cells": [
  {
   "attachments": {},
   "cell_type": "markdown",
   "metadata": {},
   "source": [
    "# Introdução à Inteligência Artificial\n",
    "\n",
    "Aluna: Samantha Dantas Medeiros\n",
    "\n",
    "Dataset: [Hollow Knight Combat Dataset](https://www.kaggle.com/datasets/achalmahale/hollow-knight-combat-dataset)\n",
    "> All Enemies health and Nail Damage values from Hollow Knight\n",
    "\n",
    "## Anotações sobre a Base de Dados\n",
    "### Ataques com o Ferrão\n",
    "* Formas do ferrão: 5 (sendo 4 upgrades)\n",
    "* Ataque com ferrão: 1\n",
    "* Ataques Especiais: 3 (Nail Master Habilities) \n",
    "* Amuletos que afetam o ferrão: 2 (Fury of the Fallen e Fragile/Unbreakble Strenght)\n",
    "\n",
    "### Ataques com Magia"
   ]
  },
  {
   "cell_type": "code",
   "execution_count": 2,
   "metadata": {},
   "outputs": [],
   "source": [
    "import pandas as pd\n",
    "import seaborn as sns\n",
    "import opendatasets as od\n",
    "import matplotlib.pyplot as plt"
   ]
  }
 ],
 "metadata": {
  "kernelspec": {
   "display_name": "base",
   "language": "python",
   "name": "python3"
  },
  "language_info": {
   "codemirror_mode": {
    "name": "ipython",
    "version": 3
   },
   "file_extension": ".py",
   "mimetype": "text/x-python",
   "name": "python",
   "nbconvert_exporter": "python",
   "pygments_lexer": "ipython3",
   "version": "3.10.9"
  },
  "orig_nbformat": 4
 },
 "nbformat": 4,
 "nbformat_minor": 2
}
