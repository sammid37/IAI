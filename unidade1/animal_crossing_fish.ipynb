{
 "cells": [
  {
   "attachments": {},
   "cell_type": "markdown",
   "metadata": {},
   "source": [
    "# Introdução à Inteligência Artificial\n",
    "## Estudando o método K-NN\n",
    "\n",
    "Samantha Dantas Medeiros\n",
    "Dataset: Animal Crossing New Horizons, fish.csv @ [Kaggle](https://www.kaggle.com/datasets/jessicali9530/animal-crossing-new-horizons-nookplaza-dataset?select=fish.csv) | [Google Spreadsheet](https://docs.google.com/spreadsheets/d/13d_LAJPlxMa_DubPTuirkIV4DERBMXbrWQsmSh8ReK4/edit#gid=2030267432)"
   ]
  },
  {
   "attachments": {},
   "cell_type": "markdown",
   "metadata": {},
   "source": [
    "### Dependências e Funções"
   ]
  },
  {
   "cell_type": "code",
   "execution_count": 35,
   "metadata": {},
   "outputs": [],
   "source": [
    "from statistics import mode\n",
    "\n",
    "import pandas as pd\n",
    "import seaborn as sns\n",
    "import opendatasets as od\n",
    "import matplotlib.pyplot as plt\n",
    "\n",
    "from sklearn.decomposition import PCA\n",
    "from sklearn.preprocessing import RobustScaler\n",
    "from sklearn.model_selection import train_test_split\n",
    "from sklearn.neighbors import KNeighborsClassifier\n",
    "from sklearn.metrics import (accuracy_score, precision_score, recall_score, confusion_matrix)"
   ]
  },
  {
   "cell_type": "code",
   "execution_count": 36,
   "metadata": {},
   "outputs": [],
   "source": [
    "# Funções\n",
    "def replace_size(value):\n",
    "  if \"x\" in value:\n",
    "    size = value.split(\"x\")\n",
    "    return int(size[0]) * int(size[1])\n",
    "  else:\n",
    "    return int(value)"
   ]
  },
  {
   "attachments": {},
   "cell_type": "markdown",
   "metadata": {},
   "source": [
    "### Dataframe e limpeza de dados"
   ]
  },
  {
   "cell_type": "code",
   "execution_count": 37,
   "metadata": {},
   "outputs": [
    {
     "data": {
      "text/plain": [
       "Index(['#', 'Name', 'Icon Image', 'Critterpedia Image', 'Furniture Image',\n",
       "       'Sell', 'Where/How', 'Shadow', 'Catch Difficulty', 'Vision',\n",
       "       'Total Catches to Unlock', 'Spawn Rates', 'NH Jan', 'NH Feb', 'NH Mar',\n",
       "       'NH Apr', 'NH May', 'NH Jun', 'NH Jul', 'NH Aug', 'NH Sep', 'NH Oct',\n",
       "       'NH Nov', 'NH Dec', 'SH Jan', 'SH Feb', 'SH Mar', 'SH Apr', 'SH May',\n",
       "       'SH Jun', 'SH Jul', 'SH Aug', 'SH Sep', 'SH Oct', 'SH Nov', 'SH Dec',\n",
       "       'Size', 'Surface', 'Description', 'Catch phrase', 'HHA Base Points',\n",
       "       'HHA Category', 'Color 1', 'Color 2', 'Lighting Type', 'Icon Filename',\n",
       "       'Critterpedia Filename', 'Furniture Filename', 'Internal ID',\n",
       "       'Unique Entry ID'],\n",
       "      dtype='object')"
      ]
     },
     "execution_count": 37,
     "metadata": {},
     "output_type": "execute_result"
    }
   ],
   "source": [
    "# Abrindo dataset\n",
    "ds = pd.read_csv('./AnimalCrossing_fish.csv', encoding='utf-8')\n",
    "\n",
    "ds.head() # exibe os 5 primeiros elementos do dataframe\n",
    "ds.columns # exibe as colunas do dataframe"
   ]
  },
  {
   "cell_type": "code",
   "execution_count": 38,
   "metadata": {},
   "outputs": [],
   "source": [
    "# Criando um novo Dataframe a partir das colunas desejadas do Dataframe original\n",
    "df = ds.loc[:, [\"#\", \"Name\", \"Where/How\", \"Shadow\", \"Size\", \"Catch Difficulty\", \"Surface\", \"Sell\"]]\n",
    "\n",
    "# Novas colunas e tratamento de strings para valores inteiros\n",
    "df[['Min Spawn', 'Max Spawn']] = ds['Spawn Rates'].str.replace('–', '-').str.split('-', expand=True)\n",
    "df[\"Size\"] = df[\"Size\"].apply(replace_size)\n",
    "df['Surface'] = df['Surface'].replace({'Yes': 1, 'No': 0})\n",
    "df[\"Catch Difficulty\"] = df[\"Catch Difficulty\"].replace({\n",
    "    \"Very Easy\": 1,\n",
    "    \"Easy\": 2,\n",
    "    \"Medium\": 3,\n",
    "    \"Hard\": 4,\n",
    "    \"Very Hard\": 5\n",
    "  })\n",
    "df[\"Shadow\"] = df[\"Shadow\"].replace({\n",
    "    \"X-Small\": 1,\n",
    "    \"Small\": 2,\n",
    "    \"Medium\": 3,\n",
    "    \"Large\": 4,\n",
    "    \"X-Large\": 5,\n",
    "    \"XX-Large\": 6,\n",
    "    \"X-Large w/Fin\": 7,\n",
    "    \"Long\": 8 \n",
    "})\n",
    "\n",
    "# print(df[\"Where/How\"].unique())"
   ]
  },
  {
   "cell_type": "code",
   "execution_count": 39,
   "metadata": {},
   "outputs": [
    {
     "data": {
      "text/html": [
       "<div>\n",
       "<style scoped>\n",
       "    .dataframe tbody tr th:only-of-type {\n",
       "        vertical-align: middle;\n",
       "    }\n",
       "\n",
       "    .dataframe tbody tr th {\n",
       "        vertical-align: top;\n",
       "    }\n",
       "\n",
       "    .dataframe thead th {\n",
       "        text-align: right;\n",
       "    }\n",
       "</style>\n",
       "<table border=\"1\" class=\"dataframe\">\n",
       "  <thead>\n",
       "    <tr style=\"text-align: right;\">\n",
       "      <th></th>\n",
       "      <th>#</th>\n",
       "      <th>Name</th>\n",
       "      <th>Shadow</th>\n",
       "      <th>Where/How</th>\n",
       "      <th>Catch Difficulty</th>\n",
       "      <th>Size</th>\n",
       "      <th>Surface</th>\n",
       "      <th>Min Spawn</th>\n",
       "      <th>Max Spawn</th>\n",
       "      <th>Sell</th>\n",
       "    </tr>\n",
       "  </thead>\n",
       "  <tbody>\n",
       "    <tr>\n",
       "      <th>0</th>\n",
       "      <td>56</td>\n",
       "      <td>anchovy</td>\n",
       "      <td>2</td>\n",
       "      <td>Sea</td>\n",
       "      <td>1</td>\n",
       "      <td>1</td>\n",
       "      <td>0</td>\n",
       "      <td>2</td>\n",
       "      <td>5</td>\n",
       "      <td>200</td>\n",
       "    </tr>\n",
       "    <tr>\n",
       "      <th>1</th>\n",
       "      <td>36</td>\n",
       "      <td>angelfish</td>\n",
       "      <td>2</td>\n",
       "      <td>River</td>\n",
       "      <td>2</td>\n",
       "      <td>1</td>\n",
       "      <td>1</td>\n",
       "      <td>2</td>\n",
       "      <td>5</td>\n",
       "      <td>3000</td>\n",
       "    </tr>\n",
       "    <tr>\n",
       "      <th>2</th>\n",
       "      <td>44</td>\n",
       "      <td>arapaima</td>\n",
       "      <td>6</td>\n",
       "      <td>River</td>\n",
       "      <td>5</td>\n",
       "      <td>6</td>\n",
       "      <td>0</td>\n",
       "      <td>1</td>\n",
       "      <td>None</td>\n",
       "      <td>10000</td>\n",
       "    </tr>\n",
       "    <tr>\n",
       "      <th>3</th>\n",
       "      <td>41</td>\n",
       "      <td>arowana</td>\n",
       "      <td>4</td>\n",
       "      <td>River</td>\n",
       "      <td>5</td>\n",
       "      <td>2</td>\n",
       "      <td>1</td>\n",
       "      <td>1</td>\n",
       "      <td>2</td>\n",
       "      <td>10000</td>\n",
       "    </tr>\n",
       "    <tr>\n",
       "      <th>4</th>\n",
       "      <td>58</td>\n",
       "      <td>barred knifejaw</td>\n",
       "      <td>3</td>\n",
       "      <td>Sea</td>\n",
       "      <td>4</td>\n",
       "      <td>1</td>\n",
       "      <td>1</td>\n",
       "      <td>3</td>\n",
       "      <td>5</td>\n",
       "      <td>5000</td>\n",
       "    </tr>\n",
       "  </tbody>\n",
       "</table>\n",
       "</div>"
      ],
      "text/plain": [
       "    #             Name  Shadow Where/How  Catch Difficulty  Size  Surface  \\\n",
       "0  56          anchovy       2       Sea                 1     1        0   \n",
       "1  36        angelfish       2     River                 2     1        1   \n",
       "2  44         arapaima       6     River                 5     6        0   \n",
       "3  41          arowana       4     River                 5     2        1   \n",
       "4  58  barred knifejaw       3       Sea                 4     1        1   \n",
       "\n",
       "  Min Spawn Max Spawn   Sell  \n",
       "0         2         5    200  \n",
       "1         2         5   3000  \n",
       "2         1      None  10000  \n",
       "3         1         2  10000  \n",
       "4         3         5   5000  "
      ]
     },
     "execution_count": 39,
     "metadata": {},
     "output_type": "execute_result"
    }
   ],
   "source": [
    "# Organizando o DataFrame\n",
    "df = df.reindex(columns=[\n",
    "    \"#\", \n",
    "    \"Name\",\n",
    "    \"Shadow\",\n",
    "    \"Where/How\",\n",
    "    \"Catch Difficulty\",\n",
    "    \"Size\",\n",
    "    \"Surface\",\n",
    "    \"Min Spawn\",\n",
    "    \"Max Spawn\",\n",
    "    \"Sell\"\n",
    "  ])\n",
    "df.head()"
   ]
  },
  {
   "attachments": {},
   "cell_type": "markdown",
   "metadata": {},
   "source": [
    "### Pré-processamento"
   ]
  },
  {
   "cell_type": "code",
   "execution_count": 40,
   "metadata": {},
   "outputs": [
    {
     "data": {
      "text/plain": [
       "#                    0\n",
       "Name                 0\n",
       "Shadow               0\n",
       "Where/How            0\n",
       "Catch Difficulty     0\n",
       "Size                 0\n",
       "Surface              0\n",
       "Min Spawn            0\n",
       "Max Spawn           27\n",
       "Sell                 0\n",
       "dtype: int64"
      ]
     },
     "execution_count": 40,
     "metadata": {},
     "output_type": "execute_result"
    }
   ],
   "source": [
    "df.isnull().sum()"
   ]
  },
  {
   "cell_type": "code",
   "execution_count": 41,
   "metadata": {},
   "outputs": [
    {
     "data": {
      "text/html": [
       "<div>\n",
       "<style scoped>\n",
       "    .dataframe tbody tr th:only-of-type {\n",
       "        vertical-align: middle;\n",
       "    }\n",
       "\n",
       "    .dataframe tbody tr th {\n",
       "        vertical-align: top;\n",
       "    }\n",
       "\n",
       "    .dataframe thead th {\n",
       "        text-align: right;\n",
       "    }\n",
       "</style>\n",
       "<table border=\"1\" class=\"dataframe\">\n",
       "  <thead>\n",
       "    <tr style=\"text-align: right;\">\n",
       "      <th></th>\n",
       "      <th>#</th>\n",
       "      <th>Shadow</th>\n",
       "      <th>Catch Difficulty</th>\n",
       "      <th>Size</th>\n",
       "      <th>Surface</th>\n",
       "      <th>Sell</th>\n",
       "    </tr>\n",
       "  </thead>\n",
       "  <tbody>\n",
       "    <tr>\n",
       "      <th>count</th>\n",
       "      <td>80.0000</td>\n",
       "      <td>80.000000</td>\n",
       "      <td>80.000000</td>\n",
       "      <td>80.000000</td>\n",
       "      <td>80.000000</td>\n",
       "      <td>80.000000</td>\n",
       "    </tr>\n",
       "    <tr>\n",
       "      <th>mean</th>\n",
       "      <td>40.5000</td>\n",
       "      <td>3.550000</td>\n",
       "      <td>3.087500</td>\n",
       "      <td>1.587500</td>\n",
       "      <td>0.600000</td>\n",
       "      <td>3745.000000</td>\n",
       "    </tr>\n",
       "    <tr>\n",
       "      <th>std</th>\n",
       "      <td>23.2379</td>\n",
       "      <td>1.967457</td>\n",
       "      <td>1.342525</td>\n",
       "      <td>1.154997</td>\n",
       "      <td>0.492989</td>\n",
       "      <td>4517.151561</td>\n",
       "    </tr>\n",
       "    <tr>\n",
       "      <th>min</th>\n",
       "      <td>1.0000</td>\n",
       "      <td>1.000000</td>\n",
       "      <td>1.000000</td>\n",
       "      <td>1.000000</td>\n",
       "      <td>0.000000</td>\n",
       "      <td>100.000000</td>\n",
       "    </tr>\n",
       "    <tr>\n",
       "      <th>25%</th>\n",
       "      <td>20.7500</td>\n",
       "      <td>2.000000</td>\n",
       "      <td>2.000000</td>\n",
       "      <td>1.000000</td>\n",
       "      <td>0.000000</td>\n",
       "      <td>500.000000</td>\n",
       "    </tr>\n",
       "    <tr>\n",
       "      <th>50%</th>\n",
       "      <td>40.5000</td>\n",
       "      <td>3.000000</td>\n",
       "      <td>3.000000</td>\n",
       "      <td>1.000000</td>\n",
       "      <td>1.000000</td>\n",
       "      <td>1500.000000</td>\n",
       "    </tr>\n",
       "    <tr>\n",
       "      <th>75%</th>\n",
       "      <td>60.2500</td>\n",
       "      <td>5.000000</td>\n",
       "      <td>4.000000</td>\n",
       "      <td>2.000000</td>\n",
       "      <td>1.000000</td>\n",
       "      <td>5000.000000</td>\n",
       "    </tr>\n",
       "    <tr>\n",
       "      <th>max</th>\n",
       "      <td>80.0000</td>\n",
       "      <td>8.000000</td>\n",
       "      <td>5.000000</td>\n",
       "      <td>6.000000</td>\n",
       "      <td>1.000000</td>\n",
       "      <td>15000.000000</td>\n",
       "    </tr>\n",
       "  </tbody>\n",
       "</table>\n",
       "</div>"
      ],
      "text/plain": [
       "             #     Shadow  Catch Difficulty       Size    Surface  \\\n",
       "count  80.0000  80.000000         80.000000  80.000000  80.000000   \n",
       "mean   40.5000   3.550000          3.087500   1.587500   0.600000   \n",
       "std    23.2379   1.967457          1.342525   1.154997   0.492989   \n",
       "min     1.0000   1.000000          1.000000   1.000000   0.000000   \n",
       "25%    20.7500   2.000000          2.000000   1.000000   0.000000   \n",
       "50%    40.5000   3.000000          3.000000   1.000000   1.000000   \n",
       "75%    60.2500   5.000000          4.000000   2.000000   1.000000   \n",
       "max    80.0000   8.000000          5.000000   6.000000   1.000000   \n",
       "\n",
       "               Sell  \n",
       "count     80.000000  \n",
       "mean    3745.000000  \n",
       "std     4517.151561  \n",
       "min      100.000000  \n",
       "25%      500.000000  \n",
       "50%     1500.000000  \n",
       "75%     5000.000000  \n",
       "max    15000.000000  "
      ]
     },
     "execution_count": 41,
     "metadata": {},
     "output_type": "execute_result"
    }
   ],
   "source": [
    "df.describe()"
   ]
  },
  {
   "cell_type": "code",
   "execution_count": 42,
   "metadata": {},
   "outputs": [],
   "source": [
    "fish = df.copy()\n",
    "# fish.drop(\"Name\")\n",
    "x = fish.drop([\"#\",\"Name\",\"Where/How\", \"Catch Difficulty\"], axis = 1)\n",
    "y = fish.loc[:, \"Catch Difficulty\"]\n",
    "\n",
    "x = RobustScaler().fit_transform(x)"
   ]
  },
  {
   "cell_type": "code",
   "execution_count": 43,
   "metadata": {},
   "outputs": [],
   "source": [
    "x_train, x_test, y_train, y_test = train_test_split(x, y, test_size= 0.2, random_state = 1)"
   ]
  },
  {
   "cell_type": "code",
   "execution_count": 47,
   "metadata": {},
   "outputs": [
    {
     "name": "stderr",
     "output_type": "stream",
     "text": [
      "C:\\Users\\saman\\AppData\\Local\\Temp\\ipykernel_3840\\2381073123.py:3: FutureWarning: The default value of numeric_only in DataFrame.corr is deprecated. In a future version, it will default to False. Select only valid columns or specify the value of numeric_only to silence this warning.\n",
      "  sns.heatmap(fish.corr(), cmap = \"plasma\");\n"
     ]
    },
    {
     "data": {
      "image/png": "[encoded data removed]",
      "text/plain": [
       "<Figure size 200x200 with 2 Axes>"
      ]
     },
     "metadata": {},
     "output_type": "display_data"
    }
   ],
   "source": [
    "plt.figure(figsize = (2, 2))\n",
    "\n",
    "sns.heatmap(fish.corr(), cmap = \"plasma\");"
   ]
  }
 ],
 "metadata": {
  "kernelspec": {
   "display_name": "base",
   "language": "python",
   "name": "python3"
  },
  "language_info": {
   "codemirror_mode": {
    "name": "ipython",
    "version": 3
   },
   "file_extension": ".py",
   "mimetype": "text/x-python",
   "name": "python",
   "nbconvert_exporter": "python",
   "pygments_lexer": "ipython3",
   "version": "3.10.9"
  },
  "orig_nbformat": 4
 },
 "nbformat": 4,
 "nbformat_minor": 2
}
