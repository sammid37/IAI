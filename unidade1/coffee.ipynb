{
 "cells": [
  {
   "attachments": {},
   "cell_type": "markdown",
   "metadata": {},
   "source": [
    "# Introdução à Inteligência Artificial\n",
    "## Classificação de Qualidade de Café\n",
    "\n",
    "Aluna: Samantha Dantas Medeiros\n",
    "\n",
    "Dataset: Coffee Quality from CQI, fish.csv @ [Kaggle](https://www.kaggle.com/datasets/volpatto/coffee-quality-database-from-cqi) \n",
    "\n",
    "**Objetivo**: classificar a qualidade do café (bom ou ruim) de acordo com base em suas características.\n",
    "\n",
    "> Estarei utilizando a base de dados sobre o café do tipo *Arabico*"
   ]
  },
  {
   "attachments": {},
   "cell_type": "markdown",
   "metadata": {},
   "source": [
    "### Importação de bibliotecas"
   ]
  },
  {
   "cell_type": "code",
   "execution_count": 239,
   "metadata": {},
   "outputs": [],
   "source": [
    "from statistics import mode\n",
    "\n",
    "import pandas as pd\n",
    "import seaborn as sns\n",
    "import opendatasets as od\n",
    "import matplotlib.pyplot as plt\n",
    "import matplotlib.colors as mcolors\n",
    "\n",
    "from sklearn.decomposition import PCA\n",
    "from sklearn.preprocessing import RobustScaler\n",
    "from sklearn.preprocessing import LabelEncoder\n",
    "from sklearn.model_selection import train_test_split\n",
    "from sklearn.neighbors import KNeighborsClassifier\n",
    "from sklearn.metrics import (accuracy_score, precision_score, recall_score, confusion_matrix)"
   ]
  },
  {
   "attachments": {},
   "cell_type": "markdown",
   "metadata": {},
   "source": [
    "### Pré-processamento de Dados\n",
    "O pré-processamento de dados é uma etapa fundamental na análise de dados e mineração de dados, pois visa preparar os dados para análise e modelagem."
   ]
  },
  {
   "cell_type": "code",
   "execution_count": 240,
   "metadata": {},
   "outputs": [],
   "source": [
    "df = pd.read_csv('./arabica_data_cleaned.csv', encoding='utf-8')"
   ]
  },
  {
   "cell_type": "code",
   "execution_count": 241,
   "metadata": {},
   "outputs": [
    {
     "name": "stdout",
     "output_type": "stream",
     "text": [
      "<class 'pandas.core.frame.DataFrame'>\n",
      "RangeIndex: 1311 entries, 0 to 1310\n",
      "Data columns (total 44 columns):\n",
      " #   Column                 Non-Null Count  Dtype  \n",
      "---  ------                 --------------  -----  \n",
      " 0   Unnamed: 0             1311 non-null   int64  \n",
      " 1   Species                1311 non-null   object \n",
      " 2   Owner                  1304 non-null   object \n",
      " 3   Country.of.Origin      1310 non-null   object \n",
      " 4   Farm.Name              955 non-null    object \n",
      " 5   Lot.Number             270 non-null    object \n",
      " 6   Mill                   1001 non-null   object \n",
      " 7   ICO.Number             1165 non-null   object \n",
      " 8   Company                1102 non-null   object \n",
      " 9   Altitude               1088 non-null   object \n",
      " 10  Region                 1254 non-null   object \n",
      " 11  Producer               1081 non-null   object \n",
      " 12  Number.of.Bags         1311 non-null   int64  \n",
      " 13  Bag.Weight             1311 non-null   object \n",
      " 14  In.Country.Partner     1311 non-null   object \n",
      " 15  Harvest.Year           1264 non-null   object \n",
      " 16  Grading.Date           1311 non-null   object \n",
      " 17  Owner.1                1304 non-null   object \n",
      " 18  Variety                1110 non-null   object \n",
      " 19  Processing.Method      1159 non-null   object \n",
      " 20  Aroma                  1311 non-null   float64\n",
      " 21  Flavor                 1311 non-null   float64\n",
      " 22  Aftertaste             1311 non-null   float64\n",
      " 23  Acidity                1311 non-null   float64\n",
      " 24  Body                   1311 non-null   float64\n",
      " 25  Balance                1311 non-null   float64\n",
      " 26  Uniformity             1311 non-null   float64\n",
      " 27  Clean.Cup              1311 non-null   float64\n",
      " 28  Sweetness              1311 non-null   float64\n",
      " 29  Cupper.Points          1311 non-null   float64\n",
      " 30  Total.Cup.Points       1311 non-null   float64\n",
      " 31  Moisture               1311 non-null   float64\n",
      " 32  Category.One.Defects   1311 non-null   int64  \n",
      " 33  Quakers                1310 non-null   float64\n",
      " 34  Color                  1095 non-null   object \n",
      " 35  Category.Two.Defects   1311 non-null   int64  \n",
      " 36  Expiration             1311 non-null   object \n",
      " 37  Certification.Body     1311 non-null   object \n",
      " 38  Certification.Address  1311 non-null   object \n",
      " 39  Certification.Contact  1311 non-null   object \n",
      " 40  unit_of_measurement    1311 non-null   object \n",
      " 41  altitude_low_meters    1084 non-null   float64\n",
      " 42  altitude_high_meters   1084 non-null   float64\n",
      " 43  altitude_mean_meters   1084 non-null   float64\n",
      "dtypes: float64(16), int64(4), object(24)\n",
      "memory usage: 450.8+ KB\n"
     ]
    }
   ],
   "source": [
    "df.head() # exibe os 5 primeiros elementos do dataframe\n",
    "df.columns # exibe as colunas do dataframe\n",
    "df.describe() # para retornar um resumo estatístico das variáveis numéricas\n",
    "df.info() # para dar um resumo de valores não nulos encontrados\n"
   ]
  },
  {
   "attachments": {},
   "cell_type": "markdown",
   "metadata": {},
   "source": [
    "#### Lidando com Dados Ausentes\n",
    "O tratamento de valores ausentes em uma base de dados é uma etapa importante do pré-processamento de dados, pois valores faltantes podem afetar negativamente a análise e os resultados.\n",
    "\n",
    "Há duas formas de tratar dados ausentes:\n",
    "* Exluir valores ausentes: `df.dropna(axis=0)`, esse método pode reduzir significativamente o tamanho da base de dados.\n",
    "* Preencher valores ausentes: `df.fillna()` com `median()` ou `mode()`, depende do tipo de variável\n",
    "  * Moda para variáveis categóricas\n",
    "  * Mediana para variáveis numéricas contínuas"
   ]
  },
  {
   "cell_type": "code",
   "execution_count": 242,
   "metadata": {},
   "outputs": [],
   "source": [
    "# Removendo colunas irrelevantes\n",
    "df = df.drop(\n",
    "  ['Species', # já que a base de dados é sobre essa espécies, não há necessidade de tê-la aqui\n",
    "  'Producer',\n",
    "  'Lot.Number',\n",
    "  'ICO.Number',\n",
    "  'Farm.Name', \n",
    "  'Company',\n",
    "  'Owner', \n",
    "  'Owner.1',\n",
    "  'Unnamed: 0', \n",
    "  'Mill', \n",
    "  'Number.of.Bags', \n",
    "  'Bag.Weight', \n",
    "  'In.Country.Partner', \n",
    "  'Harvest.Year', \n",
    "  'Grading.Date', \n",
    "  'Category.One.Defects', \n",
    "  'Quakers', \n",
    "  'Color', \n",
    "  'Category.Two.Defects', \n",
    "  'Expiration', \n",
    "  'Certification.Body', \n",
    "  'Certification.Address', \n",
    "  'Certification.Contact', \n",
    "  'unit_of_measurement',\n",
    "  'altitude_low_meters',\n",
    "  'altitude_high_meters',\n",
    "  'altitude_mean_meters'\n",
    "  ], \n",
    "axis=1)"
   ]
  },
  {
   "cell_type": "code",
   "execution_count": 243,
   "metadata": {},
   "outputs": [
    {
     "data": {
      "text/plain": [
       "Country.of.Origin      1\n",
       "Altitude             223\n",
       "Region                57\n",
       "Variety              201\n",
       "Processing.Method    152\n",
       "Aroma                  0\n",
       "Flavor                 0\n",
       "Aftertaste             0\n",
       "Acidity                0\n",
       "Body                   0\n",
       "Balance                0\n",
       "Uniformity             0\n",
       "Clean.Cup              0\n",
       "Sweetness              0\n",
       "Cupper.Points          0\n",
       "Total.Cup.Points       0\n",
       "Moisture               0\n",
       "dtype: int64"
      ]
     },
     "execution_count": 243,
     "metadata": {},
     "output_type": "execute_result"
    }
   ],
   "source": [
    "df.isnull().sum() #para retornar a soma dos valores nulos encontrados"
   ]
  },
  {
   "cell_type": "code",
   "execution_count": 244,
   "metadata": {},
   "outputs": [
    {
     "data": {
      "text/plain": [
       "Country.of.Origin    0\n",
       "Altitude             0\n",
       "Region               0\n",
       "Variety              0\n",
       "Processing.Method    0\n",
       "Aroma                0\n",
       "Flavor               0\n",
       "Aftertaste           0\n",
       "Acidity              0\n",
       "Body                 0\n",
       "Balance              0\n",
       "Uniformity           0\n",
       "Clean.Cup            0\n",
       "Sweetness            0\n",
       "Cupper.Points        0\n",
       "Total.Cup.Points     0\n",
       "Moisture             0\n",
       "dtype: int64"
      ]
     },
     "execution_count": 244,
     "metadata": {},
     "output_type": "execute_result"
    }
   ],
   "source": [
    "\n",
    "# Preenchendo coluna com valores nulos com moda, valores categóricos\n",
    "df['Country.of.Origin'] = df['Country.of.Origin'].fillna(df['Country.of.Origin'].mode()[0]) \n",
    "df['Region'] = df['Region'].fillna(df['Region'].mode()[0])\n",
    "df['Variety'] = df['Variety'].fillna(df['Variety'].mode()[0])\n",
    "df['Processing.Method'] = df['Processing.Method'].fillna(df['Processing.Method'].mode()[0]) \n",
    "\n",
    "# Preenchendo colunas com valores nulos com mediana, valores contínuos\n",
    "df['Altitude'] = df['Altitude'].str.extract(r'(\\d+)').astype(float)\n",
    "df['Altitude'] = df['Altitude'].fillna(df['Altitude'].median())\n",
    "\n",
    "# Verificando valores nulos\n",
    "df.isnull().sum() #para retornar a soma dos valores nulos encontrados"
   ]
  },
  {
   "attachments": {},
   "cell_type": "markdown",
   "metadata": {},
   "source": [
    "### Treinamento do Modelo\n",
    "Para o seguinte modelo, são levado em conta todos os atributos numéricos, como nota de sabor, aroba e outros. \n",
    "\n",
    "Alguns dos valores qualitativos (ou não contínuos) desejados serão os alvos do modelo e receberão valores binários de acordo com o alvo."
   ]
  },
  {
   "cell_type": "code",
   "execution_count": 245,
   "metadata": {},
   "outputs": [
    {
     "data": {
      "text/plain": [
       "Index(['Country.of.Origin', 'Altitude', 'Region', 'Variety',\n",
       "       'Processing.Method', 'Aroma', 'Flavor', 'Aftertaste', 'Acidity', 'Body',\n",
       "       'Balance', 'Uniformity', 'Clean.Cup', 'Sweetness', 'Cupper.Points',\n",
       "       'Total.Cup.Points', 'Moisture'],\n",
       "      dtype='object')"
      ]
     },
     "execution_count": 245,
     "metadata": {},
     "output_type": "execute_result"
    }
   ],
   "source": [
    "df.columns"
   ]
  },
  {
   "cell_type": "code",
   "execution_count": 253,
   "metadata": {},
   "outputs": [],
   "source": [
    "# Fazendo cópia da base de dados original com as colunas desejadas\n",
    "\n",
    "coffee_df = df.copy()"
   ]
  },
  {
   "cell_type": "code",
   "execution_count": 254,
   "metadata": {},
   "outputs": [],
   "source": [
    "# Substituindo valores qualitativos das colunas com valores binários\n",
    "coffee_df[\"Country.of.Origin\"] = coffee_df[\"Country.of.Origin\"].map(lambda x: 1 if x == \"Mexico\" else 0)\n",
    "coffee_df[\"Variety\"] = coffee_df[\"Variety\"].map(lambda x: 1 if x == \"Caturra\" else 0)\n",
    "coffee_df[\"Region\"] = coffee_df[\"Region\"].map(lambda x: 1 if x == \"huila\" else 0)\n",
    "coffee_df[\"Processing.Method\"] = coffee_df[\"Processing.Method\"].map(lambda x: 1 if x == \"Washed / Wet\" else 0)\n"
   ]
  },
  {
   "cell_type": "code",
   "execution_count": 255,
   "metadata": {},
   "outputs": [
    {
     "data": {
      "text/html": [
       "<div>\n",
       "<style scoped>\n",
       "    .dataframe tbody tr th:only-of-type {\n",
       "        vertical-align: middle;\n",
       "    }\n",
       "\n",
       "    .dataframe tbody tr th {\n",
       "        vertical-align: top;\n",
       "    }\n",
       "\n",
       "    .dataframe thead th {\n",
       "        text-align: right;\n",
       "    }\n",
       "</style>\n",
       "<table border=\"1\" class=\"dataframe\">\n",
       "  <thead>\n",
       "    <tr style=\"text-align: right;\">\n",
       "      <th></th>\n",
       "      <th>Country.of.Origin</th>\n",
       "      <th>Altitude</th>\n",
       "      <th>Region</th>\n",
       "      <th>Variety</th>\n",
       "      <th>Processing.Method</th>\n",
       "      <th>Aroma</th>\n",
       "      <th>Flavor</th>\n",
       "      <th>Aftertaste</th>\n",
       "      <th>Acidity</th>\n",
       "      <th>Body</th>\n",
       "      <th>Balance</th>\n",
       "      <th>Uniformity</th>\n",
       "      <th>Clean.Cup</th>\n",
       "      <th>Sweetness</th>\n",
       "      <th>Cupper.Points</th>\n",
       "      <th>Total.Cup.Points</th>\n",
       "      <th>Moisture</th>\n",
       "    </tr>\n",
       "  </thead>\n",
       "  <tbody>\n",
       "    <tr>\n",
       "      <th>0</th>\n",
       "      <td>0</td>\n",
       "      <td>1950.0</td>\n",
       "      <td>0</td>\n",
       "      <td>1</td>\n",
       "      <td>1</td>\n",
       "      <td>8.67</td>\n",
       "      <td>8.83</td>\n",
       "      <td>8.67</td>\n",
       "      <td>8.75</td>\n",
       "      <td>8.50</td>\n",
       "      <td>8.42</td>\n",
       "      <td>10.0</td>\n",
       "      <td>10.0</td>\n",
       "      <td>10.0</td>\n",
       "      <td>8.75</td>\n",
       "      <td>90.58</td>\n",
       "      <td>0.12</td>\n",
       "    </tr>\n",
       "    <tr>\n",
       "      <th>1</th>\n",
       "      <td>0</td>\n",
       "      <td>1950.0</td>\n",
       "      <td>0</td>\n",
       "      <td>0</td>\n",
       "      <td>1</td>\n",
       "      <td>8.75</td>\n",
       "      <td>8.67</td>\n",
       "      <td>8.50</td>\n",
       "      <td>8.58</td>\n",
       "      <td>8.42</td>\n",
       "      <td>8.42</td>\n",
       "      <td>10.0</td>\n",
       "      <td>10.0</td>\n",
       "      <td>10.0</td>\n",
       "      <td>8.58</td>\n",
       "      <td>89.92</td>\n",
       "      <td>0.12</td>\n",
       "    </tr>\n",
       "    <tr>\n",
       "      <th>2</th>\n",
       "      <td>0</td>\n",
       "      <td>1600.0</td>\n",
       "      <td>1</td>\n",
       "      <td>0</td>\n",
       "      <td>1</td>\n",
       "      <td>8.42</td>\n",
       "      <td>8.50</td>\n",
       "      <td>8.42</td>\n",
       "      <td>8.42</td>\n",
       "      <td>8.33</td>\n",
       "      <td>8.42</td>\n",
       "      <td>10.0</td>\n",
       "      <td>10.0</td>\n",
       "      <td>10.0</td>\n",
       "      <td>9.25</td>\n",
       "      <td>89.75</td>\n",
       "      <td>0.00</td>\n",
       "    </tr>\n",
       "    <tr>\n",
       "      <th>3</th>\n",
       "      <td>0</td>\n",
       "      <td>1800.0</td>\n",
       "      <td>0</td>\n",
       "      <td>1</td>\n",
       "      <td>0</td>\n",
       "      <td>8.17</td>\n",
       "      <td>8.58</td>\n",
       "      <td>8.42</td>\n",
       "      <td>8.42</td>\n",
       "      <td>8.50</td>\n",
       "      <td>8.25</td>\n",
       "      <td>10.0</td>\n",
       "      <td>10.0</td>\n",
       "      <td>10.0</td>\n",
       "      <td>8.67</td>\n",
       "      <td>89.00</td>\n",
       "      <td>0.11</td>\n",
       "    </tr>\n",
       "    <tr>\n",
       "      <th>4</th>\n",
       "      <td>0</td>\n",
       "      <td>1950.0</td>\n",
       "      <td>0</td>\n",
       "      <td>0</td>\n",
       "      <td>1</td>\n",
       "      <td>8.25</td>\n",
       "      <td>8.50</td>\n",
       "      <td>8.25</td>\n",
       "      <td>8.50</td>\n",
       "      <td>8.42</td>\n",
       "      <td>8.33</td>\n",
       "      <td>10.0</td>\n",
       "      <td>10.0</td>\n",
       "      <td>10.0</td>\n",
       "      <td>8.58</td>\n",
       "      <td>88.83</td>\n",
       "      <td>0.12</td>\n",
       "    </tr>\n",
       "  </tbody>\n",
       "</table>\n",
       "</div>"
      ],
      "text/plain": [
       "   Country.of.Origin  Altitude  Region  Variety  Processing.Method  Aroma  \\\n",
       "0                  0    1950.0       0        1                  1   8.67   \n",
       "1                  0    1950.0       0        0                  1   8.75   \n",
       "2                  0    1600.0       1        0                  1   8.42   \n",
       "3                  0    1800.0       0        1                  0   8.17   \n",
       "4                  0    1950.0       0        0                  1   8.25   \n",
       "\n",
       "   Flavor  Aftertaste  Acidity  Body  Balance  Uniformity  Clean.Cup  \\\n",
       "0    8.83        8.67     8.75  8.50     8.42        10.0       10.0   \n",
       "1    8.67        8.50     8.58  8.42     8.42        10.0       10.0   \n",
       "2    8.50        8.42     8.42  8.33     8.42        10.0       10.0   \n",
       "3    8.58        8.42     8.42  8.50     8.25        10.0       10.0   \n",
       "4    8.50        8.25     8.50  8.42     8.33        10.0       10.0   \n",
       "\n",
       "   Sweetness  Cupper.Points  Total.Cup.Points  Moisture  \n",
       "0       10.0           8.75             90.58      0.12  \n",
       "1       10.0           8.58             89.92      0.12  \n",
       "2       10.0           9.25             89.75      0.00  \n",
       "3       10.0           8.67             89.00      0.11  \n",
       "4       10.0           8.58             88.83      0.12  "
      ]
     },
     "execution_count": 255,
     "metadata": {},
     "output_type": "execute_result"
    }
   ],
   "source": [
    "coffee_df.head()"
   ]
  },
  {
   "cell_type": "code",
   "execution_count": 256,
   "metadata": {},
   "outputs": [
    {
     "name": "stdout",
     "output_type": "stream",
     "text": [
      "Country.of.Origin      int64\n",
      "Altitude             float64\n",
      "Region                 int64\n",
      "Variety                int64\n",
      "Processing.Method      int64\n",
      "Aroma                float64\n",
      "Flavor               float64\n",
      "Aftertaste           float64\n",
      "Acidity              float64\n",
      "Body                 float64\n",
      "Balance              float64\n",
      "Uniformity           float64\n",
      "Clean.Cup            float64\n",
      "Sweetness            float64\n",
      "Cupper.Points        float64\n",
      "Total.Cup.Points     float64\n",
      "Moisture             float64\n",
      "dtype: object\n"
     ]
    }
   ],
   "source": [
    "print(coffee_df.dtypes)"
   ]
  },
  {
   "cell_type": "code",
   "execution_count": 257,
   "metadata": {},
   "outputs": [
    {
     "data": {
      "text/html": [
       "<div>\n",
       "<style scoped>\n",
       "    .dataframe tbody tr th:only-of-type {\n",
       "        vertical-align: middle;\n",
       "    }\n",
       "\n",
       "    .dataframe tbody tr th {\n",
       "        vertical-align: top;\n",
       "    }\n",
       "\n",
       "    .dataframe thead th {\n",
       "        text-align: right;\n",
       "    }\n",
       "</style>\n",
       "<table border=\"1\" class=\"dataframe\">\n",
       "  <thead>\n",
       "    <tr style=\"text-align: right;\">\n",
       "      <th></th>\n",
       "      <th>Country.of.Origin</th>\n",
       "      <th>Altitude</th>\n",
       "      <th>Region</th>\n",
       "      <th>Variety</th>\n",
       "      <th>Processing.Method</th>\n",
       "      <th>Aroma</th>\n",
       "      <th>Flavor</th>\n",
       "      <th>Aftertaste</th>\n",
       "      <th>Acidity</th>\n",
       "      <th>Body</th>\n",
       "      <th>Balance</th>\n",
       "      <th>Uniformity</th>\n",
       "      <th>Clean.Cup</th>\n",
       "      <th>Sweetness</th>\n",
       "      <th>Cupper.Points</th>\n",
       "      <th>Total.Cup.Points</th>\n",
       "      <th>Moisture</th>\n",
       "    </tr>\n",
       "  </thead>\n",
       "  <tbody>\n",
       "    <tr>\n",
       "      <th>count</th>\n",
       "      <td>1311.000000</td>\n",
       "      <td>1311.000000</td>\n",
       "      <td>1311.000000</td>\n",
       "      <td>1311.000000</td>\n",
       "      <td>1311.000000</td>\n",
       "      <td>1311.000000</td>\n",
       "      <td>1311.000000</td>\n",
       "      <td>1311.000000</td>\n",
       "      <td>1311.000000</td>\n",
       "      <td>1311.000000</td>\n",
       "      <td>1311.000000</td>\n",
       "      <td>1311.000000</td>\n",
       "      <td>1311.00000</td>\n",
       "      <td>1311.000000</td>\n",
       "      <td>1311.000000</td>\n",
       "      <td>1311.000000</td>\n",
       "      <td>1311.000000</td>\n",
       "    </tr>\n",
       "    <tr>\n",
       "      <th>mean</th>\n",
       "      <td>0.180778</td>\n",
       "      <td>1691.694127</td>\n",
       "      <td>0.128909</td>\n",
       "      <td>0.348589</td>\n",
       "      <td>0.735317</td>\n",
       "      <td>7.563806</td>\n",
       "      <td>7.518070</td>\n",
       "      <td>7.397696</td>\n",
       "      <td>7.533112</td>\n",
       "      <td>7.517727</td>\n",
       "      <td>7.517506</td>\n",
       "      <td>9.833394</td>\n",
       "      <td>9.83312</td>\n",
       "      <td>9.903272</td>\n",
       "      <td>7.497864</td>\n",
       "      <td>82.115927</td>\n",
       "      <td>0.088863</td>\n",
       "    </tr>\n",
       "    <tr>\n",
       "      <th>std</th>\n",
       "      <td>0.384981</td>\n",
       "      <td>5301.982877</td>\n",
       "      <td>0.335227</td>\n",
       "      <td>0.476705</td>\n",
       "      <td>0.441333</td>\n",
       "      <td>0.378666</td>\n",
       "      <td>0.399979</td>\n",
       "      <td>0.405119</td>\n",
       "      <td>0.381599</td>\n",
       "      <td>0.359213</td>\n",
       "      <td>0.406316</td>\n",
       "      <td>0.559343</td>\n",
       "      <td>0.77135</td>\n",
       "      <td>0.530832</td>\n",
       "      <td>0.474610</td>\n",
       "      <td>3.515761</td>\n",
       "      <td>0.047957</td>\n",
       "    </tr>\n",
       "    <tr>\n",
       "      <th>min</th>\n",
       "      <td>0.000000</td>\n",
       "      <td>0.000000</td>\n",
       "      <td>0.000000</td>\n",
       "      <td>0.000000</td>\n",
       "      <td>0.000000</td>\n",
       "      <td>0.000000</td>\n",
       "      <td>0.000000</td>\n",
       "      <td>0.000000</td>\n",
       "      <td>0.000000</td>\n",
       "      <td>0.000000</td>\n",
       "      <td>0.000000</td>\n",
       "      <td>0.000000</td>\n",
       "      <td>0.00000</td>\n",
       "      <td>0.000000</td>\n",
       "      <td>0.000000</td>\n",
       "      <td>0.000000</td>\n",
       "      <td>0.000000</td>\n",
       "    </tr>\n",
       "    <tr>\n",
       "      <th>25%</th>\n",
       "      <td>0.000000</td>\n",
       "      <td>1200.000000</td>\n",
       "      <td>0.000000</td>\n",
       "      <td>0.000000</td>\n",
       "      <td>0.000000</td>\n",
       "      <td>7.420000</td>\n",
       "      <td>7.330000</td>\n",
       "      <td>7.250000</td>\n",
       "      <td>7.330000</td>\n",
       "      <td>7.330000</td>\n",
       "      <td>7.330000</td>\n",
       "      <td>10.000000</td>\n",
       "      <td>10.00000</td>\n",
       "      <td>10.000000</td>\n",
       "      <td>7.250000</td>\n",
       "      <td>81.170000</td>\n",
       "      <td>0.090000</td>\n",
       "    </tr>\n",
       "    <tr>\n",
       "      <th>50%</th>\n",
       "      <td>0.000000</td>\n",
       "      <td>1400.000000</td>\n",
       "      <td>0.000000</td>\n",
       "      <td>0.000000</td>\n",
       "      <td>1.000000</td>\n",
       "      <td>7.580000</td>\n",
       "      <td>7.580000</td>\n",
       "      <td>7.420000</td>\n",
       "      <td>7.500000</td>\n",
       "      <td>7.500000</td>\n",
       "      <td>7.500000</td>\n",
       "      <td>10.000000</td>\n",
       "      <td>10.00000</td>\n",
       "      <td>10.000000</td>\n",
       "      <td>7.500000</td>\n",
       "      <td>82.500000</td>\n",
       "      <td>0.110000</td>\n",
       "    </tr>\n",
       "    <tr>\n",
       "      <th>75%</th>\n",
       "      <td>0.000000</td>\n",
       "      <td>1600.000000</td>\n",
       "      <td>0.000000</td>\n",
       "      <td>1.000000</td>\n",
       "      <td>1.000000</td>\n",
       "      <td>7.750000</td>\n",
       "      <td>7.750000</td>\n",
       "      <td>7.580000</td>\n",
       "      <td>7.750000</td>\n",
       "      <td>7.670000</td>\n",
       "      <td>7.750000</td>\n",
       "      <td>10.000000</td>\n",
       "      <td>10.00000</td>\n",
       "      <td>10.000000</td>\n",
       "      <td>7.750000</td>\n",
       "      <td>83.670000</td>\n",
       "      <td>0.120000</td>\n",
       "    </tr>\n",
       "    <tr>\n",
       "      <th>max</th>\n",
       "      <td>1.000000</td>\n",
       "      <td>190164.000000</td>\n",
       "      <td>1.000000</td>\n",
       "      <td>1.000000</td>\n",
       "      <td>1.000000</td>\n",
       "      <td>8.750000</td>\n",
       "      <td>8.830000</td>\n",
       "      <td>8.670000</td>\n",
       "      <td>8.750000</td>\n",
       "      <td>8.580000</td>\n",
       "      <td>8.750000</td>\n",
       "      <td>10.000000</td>\n",
       "      <td>10.00000</td>\n",
       "      <td>10.000000</td>\n",
       "      <td>10.000000</td>\n",
       "      <td>90.580000</td>\n",
       "      <td>0.280000</td>\n",
       "    </tr>\n",
       "  </tbody>\n",
       "</table>\n",
       "</div>"
      ],
      "text/plain": [
       "       Country.of.Origin       Altitude       Region      Variety  \\\n",
       "count        1311.000000    1311.000000  1311.000000  1311.000000   \n",
       "mean            0.180778    1691.694127     0.128909     0.348589   \n",
       "std             0.384981    5301.982877     0.335227     0.476705   \n",
       "min             0.000000       0.000000     0.000000     0.000000   \n",
       "25%             0.000000    1200.000000     0.000000     0.000000   \n",
       "50%             0.000000    1400.000000     0.000000     0.000000   \n",
       "75%             0.000000    1600.000000     0.000000     1.000000   \n",
       "max             1.000000  190164.000000     1.000000     1.000000   \n",
       "\n",
       "       Processing.Method        Aroma       Flavor   Aftertaste      Acidity  \\\n",
       "count        1311.000000  1311.000000  1311.000000  1311.000000  1311.000000   \n",
       "mean            0.735317     7.563806     7.518070     7.397696     7.533112   \n",
       "std             0.441333     0.378666     0.399979     0.405119     0.381599   \n",
       "min             0.000000     0.000000     0.000000     0.000000     0.000000   \n",
       "25%             0.000000     7.420000     7.330000     7.250000     7.330000   \n",
       "50%             1.000000     7.580000     7.580000     7.420000     7.500000   \n",
       "75%             1.000000     7.750000     7.750000     7.580000     7.750000   \n",
       "max             1.000000     8.750000     8.830000     8.670000     8.750000   \n",
       "\n",
       "              Body      Balance   Uniformity   Clean.Cup    Sweetness  \\\n",
       "count  1311.000000  1311.000000  1311.000000  1311.00000  1311.000000   \n",
       "mean      7.517727     7.517506     9.833394     9.83312     9.903272   \n",
       "std       0.359213     0.406316     0.559343     0.77135     0.530832   \n",
       "min       0.000000     0.000000     0.000000     0.00000     0.000000   \n",
       "25%       7.330000     7.330000    10.000000    10.00000    10.000000   \n",
       "50%       7.500000     7.500000    10.000000    10.00000    10.000000   \n",
       "75%       7.670000     7.750000    10.000000    10.00000    10.000000   \n",
       "max       8.580000     8.750000    10.000000    10.00000    10.000000   \n",
       "\n",
       "       Cupper.Points  Total.Cup.Points     Moisture  \n",
       "count    1311.000000       1311.000000  1311.000000  \n",
       "mean        7.497864         82.115927     0.088863  \n",
       "std         0.474610          3.515761     0.047957  \n",
       "min         0.000000          0.000000     0.000000  \n",
       "25%         7.250000         81.170000     0.090000  \n",
       "50%         7.500000         82.500000     0.110000  \n",
       "75%         7.750000         83.670000     0.120000  \n",
       "max        10.000000         90.580000     0.280000  "
      ]
     },
     "execution_count": 257,
     "metadata": {},
     "output_type": "execute_result"
    }
   ],
   "source": [
    "coffee_df.describe()"
   ]
  },
  {
   "attachments": {},
   "cell_type": "markdown",
   "metadata": {},
   "source": [
    "#### Definição de atributos\n",
    "Onde:\n",
    "* x é a variável alvo \n",
    "* y1, y2, y3 e y4 são as variáveis independetes."
   ]
  },
  {
   "cell_type": "code",
   "execution_count": 258,
   "metadata": {},
   "outputs": [],
   "source": [
    "x = coffee_df.drop(['Variety','Country.of.Origin','Region','Processing.Method'], axis = 1)\n",
    "y1 = coffee_df.loc[:, 'Variety']\n",
    "y2 = coffee_df.loc[:, 'Country.of.Origin']\n",
    "y3 = coffee_df.loc[:, 'Region']\n",
    "y4 = coffee_df.loc[:, 'Processing.Method']\n",
    "\n",
    "x = RobustScaler().fit_transform(x)"
   ]
  },
  {
   "attachments": {},
   "cell_type": "markdown",
   "metadata": {},
   "source": [
    "#### Separando dados de treinamento\n",
    "Onde:\n",
    "* test_size: É a proporção dos dados que serão usados para teste. Neste caso, 0.2 indica que 20% dos dados serão usados para teste e 80% serão usados para treinamento.\n",
    "* random_state: É o valor usado como semente para o gerador de números aleatórios, que é usado na divisão dos dados em treinamento e teste. O uso de um valor fixo para `random_state` garante que a divisão dos dados será sempre a mesma, o que é importante para a reprodutibilidade dos resultados."
   ]
  },
  {
   "cell_type": "code",
   "execution_count": 259,
   "metadata": {},
   "outputs": [],
   "source": [
    "# Separando dados de treinamento e teste para y1 (Variety)\n",
    "x_train1, x_test1, y_train1, y_test1 = train_test_split(x, y1, test_size= 0.2, random_state = 1)\n",
    "\n",
    "# Separando dados de treinamento e teste para y2 (Country of Origin)\n",
    "x_train2, x_test2, y_train2, y_test2 = train_test_split(x, y2, test_size= 0.2, random_state = 1)\n",
    "\n",
    "# Separando dados de treinamento e teste para y3 (Region)\n",
    "x_train3, x_test3, y_train3, y_test3 = train_test_split(x, y3, test_size= 0.2, random_state = 1)\n",
    "\n",
    "# Separando dados de treinamento e teste para y4 (Processing Method)\n",
    "x_train4, x_test4, y_train4, y_test4 = train_test_split(x, y4, test_size= 0.2, random_state = 1)"
   ]
  },
  {
   "attachments": {},
   "cell_type": "markdown",
   "metadata": {},
   "source": [
    "### Correlação"
   ]
  },
  {
   "cell_type": "code",
   "execution_count": 260,
   "metadata": {},
   "outputs": [],
   "source": [
    "# Definindo a lista de cores\n",
    "colors = [\n",
    "  '#4F0E0E',\n",
    "  '#B05B3B',\n",
    "  '#D79771',\n",
    "  '#FFEBC9'\n",
    "]\n",
    "\n",
    "# Criando a paleta de cores\n",
    "mypalette = mcolors.LinearSegmentedColormap.from_list('mypalette', colors)"
   ]
  },
  {
   "cell_type": "code",
   "execution_count": 261,
   "metadata": {},
   "outputs": [
    {
     "data": {
      "image/png": "[encoded data removed]",
      "text/plain": [
       "<Figure size 500x500 with 2 Axes>"
      ]
     },
     "metadata": {},
     "output_type": "display_data"
    }
   ],
   "source": [
    "plt.figure(figsize = (5, 5))\n",
    "\n",
    "sns.heatmap(coffee_df.corr(), cmap = mypalette);"
   ]
  },
  {
   "attachments": {},
   "cell_type": "markdown",
   "metadata": {},
   "source": [
    "### PCA"
   ]
  },
  {
   "attachments": {},
   "cell_type": "markdown",
   "metadata": {},
   "source": [
    "### KNN"
   ]
  },
  {
   "cell_type": "code",
   "execution_count": 265,
   "metadata": {},
   "outputs": [],
   "source": [
    "k_list = [1,3,5,7,9]\n",
    "\n",
    "knn_list = []\n",
    "\n",
    "for k in k_list:\n",
    "    knn_list.append(KNeighborsClassifier(n_neighbors = k))\n",
    "\n",
    "for knn in knn_list:\n",
    "    knn.fit(x_train1, y_train1)"
   ]
  },
  {
   "cell_type": "code",
   "execution_count": 268,
   "metadata": {},
   "outputs": [],
   "source": [
    "result_list = []\n",
    "\n",
    "for knn in knn_list:\n",
    "    result_list.append(knn.predict(x_test1))"
   ]
  },
  {
   "cell_type": "code",
   "execution_count": 269,
   "metadata": {},
   "outputs": [
    {
     "data": {
      "text/plain": [
       "[array([1, 1, 1, 0, 1, 0, 1, 0, 1, 1, 0, 0, 0, 0, 0, 0, 0, 0, 1, 1, 0, 0,\n",
       "        0, 0, 0, 0, 0, 0, 1, 0, 0, 1, 0, 0, 1, 1, 0, 0, 1, 1, 0, 0, 0, 0,\n",
       "        0, 0, 0, 0, 1, 1, 0, 0, 1, 1, 0, 0, 1, 0, 0, 1, 0, 0, 1, 0, 1, 0,\n",
       "        0, 0, 1, 0, 0, 0, 0, 0, 0, 0, 1, 0, 0, 0, 0, 1, 0, 1, 0, 1, 0, 1,\n",
       "        0, 0, 1, 0, 0, 0, 0, 0, 0, 0, 1, 0, 0, 0, 1, 0, 1, 0, 0, 0, 0, 0,\n",
       "        0, 1, 0, 1, 0, 1, 1, 1, 0, 0, 1, 0, 0, 0, 0, 1, 0, 0, 0, 0, 0, 1,\n",
       "        0, 0, 0, 0, 0, 0, 0, 0, 0, 0, 0, 0, 0, 0, 1, 0, 0, 1, 1, 0, 0, 0,\n",
       "        0, 0, 1, 0, 0, 1, 0, 1, 1, 0, 0, 0, 0, 1, 1, 0, 0, 0, 1, 1, 0, 1,\n",
       "        0, 0, 1, 0, 1, 0, 1, 0, 0, 0, 0, 0, 0, 0, 1, 0, 1, 0, 0, 1, 1, 0,\n",
       "        0, 1, 0, 0, 1, 1, 0, 1, 0, 0, 1, 0, 0, 0, 0, 1, 1, 1, 0, 1, 0, 0,\n",
       "        1, 0, 0, 0, 0, 1, 0, 1, 1, 0, 0, 0, 0, 0, 1, 0, 0, 1, 0, 0, 0, 0,\n",
       "        0, 0, 0, 1, 0, 0, 1, 0, 0, 0, 1, 1, 0, 0, 1, 1, 0, 0, 0, 0, 1],\n",
       "       dtype=int64),\n",
       " array([1, 1, 1, 0, 0, 0, 1, 0, 1, 1, 0, 0, 0, 0, 0, 0, 0, 0, 1, 1, 1, 0,\n",
       "        0, 0, 0, 0, 0, 1, 0, 0, 1, 1, 0, 0, 0, 0, 0, 1, 1, 1, 0, 0, 1, 0,\n",
       "        0, 0, 0, 1, 0, 1, 0, 1, 0, 1, 0, 1, 0, 0, 0, 1, 0, 0, 1, 0, 1, 0,\n",
       "        0, 0, 1, 0, 0, 0, 0, 0, 0, 0, 0, 0, 0, 0, 0, 0, 0, 1, 0, 1, 0, 1,\n",
       "        0, 0, 1, 0, 0, 0, 0, 0, 1, 0, 1, 0, 0, 0, 0, 0, 1, 0, 0, 0, 0, 0,\n",
       "        0, 1, 0, 0, 0, 0, 0, 0, 0, 0, 1, 0, 0, 0, 0, 1, 0, 0, 1, 0, 0, 1,\n",
       "        0, 0, 0, 0, 0, 0, 0, 0, 0, 0, 0, 0, 0, 0, 1, 0, 0, 1, 1, 0, 0, 1,\n",
       "        0, 0, 1, 0, 0, 1, 0, 0, 0, 0, 0, 1, 1, 1, 0, 0, 0, 0, 1, 1, 1, 1,\n",
       "        0, 0, 0, 0, 1, 0, 1, 0, 0, 0, 1, 0, 0, 0, 0, 0, 1, 1, 0, 0, 1, 0,\n",
       "        0, 1, 0, 0, 1, 1, 0, 1, 0, 0, 0, 0, 1, 0, 0, 1, 1, 0, 0, 1, 0, 0,\n",
       "        0, 1, 0, 0, 0, 1, 0, 1, 1, 0, 0, 0, 1, 0, 1, 0, 0, 1, 0, 0, 0, 0,\n",
       "        0, 1, 0, 1, 0, 0, 1, 0, 0, 1, 1, 1, 0, 0, 0, 1, 0, 0, 0, 0, 0],\n",
       "       dtype=int64),\n",
       " array([1, 1, 1, 0, 0, 0, 1, 0, 1, 0, 0, 0, 0, 0, 0, 0, 0, 0, 1, 0, 0, 0,\n",
       "        0, 0, 0, 0, 0, 0, 0, 0, 0, 1, 0, 0, 0, 1, 0, 1, 1, 1, 0, 0, 1, 0,\n",
       "        0, 0, 1, 1, 0, 1, 0, 1, 0, 1, 0, 1, 1, 0, 0, 1, 0, 0, 1, 0, 1, 0,\n",
       "        0, 0, 0, 0, 0, 0, 0, 0, 0, 0, 0, 0, 0, 0, 0, 0, 0, 1, 0, 0, 0, 0,\n",
       "        0, 1, 1, 0, 0, 0, 1, 0, 0, 0, 0, 0, 0, 0, 0, 0, 1, 0, 1, 0, 0, 0,\n",
       "        0, 1, 0, 1, 0, 0, 0, 0, 0, 0, 1, 0, 0, 0, 0, 1, 0, 0, 1, 0, 0, 1,\n",
       "        0, 0, 0, 0, 0, 0, 0, 0, 0, 0, 0, 0, 0, 0, 1, 0, 0, 0, 1, 0, 0, 1,\n",
       "        0, 0, 0, 0, 0, 1, 0, 0, 0, 0, 0, 0, 1, 1, 0, 0, 0, 0, 1, 1, 1, 0,\n",
       "        0, 0, 0, 0, 1, 0, 0, 0, 0, 0, 1, 0, 0, 0, 0, 0, 0, 1, 0, 0, 0, 0,\n",
       "        0, 0, 0, 0, 0, 1, 0, 1, 0, 0, 0, 0, 0, 0, 0, 1, 1, 0, 0, 0, 0, 0,\n",
       "        0, 1, 0, 0, 0, 1, 0, 1, 1, 0, 0, 1, 0, 0, 0, 0, 0, 1, 0, 0, 0, 0,\n",
       "        0, 1, 0, 1, 1, 0, 1, 0, 0, 1, 1, 1, 0, 0, 0, 1, 0, 0, 0, 0, 0],\n",
       "       dtype=int64),\n",
       " array([0, 0, 1, 0, 0, 0, 1, 0, 1, 0, 0, 0, 0, 0, 0, 0, 0, 0, 0, 0, 0, 0,\n",
       "        0, 0, 0, 0, 0, 0, 0, 0, 0, 0, 0, 0, 1, 0, 0, 1, 1, 1, 0, 0, 1, 0,\n",
       "        0, 0, 1, 1, 0, 1, 0, 1, 0, 0, 0, 1, 1, 0, 0, 1, 0, 0, 1, 0, 1, 0,\n",
       "        0, 0, 0, 0, 0, 0, 0, 0, 0, 0, 0, 0, 0, 0, 0, 0, 0, 1, 0, 0, 0, 0,\n",
       "        0, 1, 1, 0, 0, 0, 1, 0, 1, 0, 0, 0, 0, 0, 0, 0, 1, 0, 0, 0, 0, 0,\n",
       "        0, 1, 0, 1, 0, 0, 0, 0, 0, 0, 1, 0, 0, 0, 0, 0, 0, 0, 1, 0, 0, 1,\n",
       "        0, 0, 0, 0, 0, 0, 0, 0, 0, 0, 0, 0, 0, 0, 1, 0, 0, 0, 1, 0, 0, 1,\n",
       "        0, 0, 0, 0, 0, 1, 0, 0, 0, 0, 0, 0, 1, 1, 0, 0, 0, 0, 1, 1, 1, 0,\n",
       "        0, 0, 0, 0, 1, 0, 0, 0, 0, 0, 1, 0, 0, 0, 0, 0, 0, 1, 0, 0, 0, 0,\n",
       "        0, 0, 0, 0, 0, 1, 0, 1, 0, 0, 0, 0, 0, 0, 0, 1, 1, 0, 0, 1, 0, 0,\n",
       "        0, 1, 0, 0, 0, 1, 0, 1, 1, 0, 0, 1, 0, 0, 0, 0, 0, 1, 0, 0, 0, 0,\n",
       "        0, 0, 0, 1, 0, 0, 1, 0, 0, 1, 1, 1, 0, 0, 0, 1, 0, 0, 0, 0, 0],\n",
       "       dtype=int64),\n",
       " array([0, 1, 1, 0, 0, 0, 1, 0, 1, 0, 0, 0, 0, 0, 0, 0, 0, 0, 0, 0, 0, 0,\n",
       "        0, 0, 0, 0, 0, 0, 0, 0, 0, 0, 0, 0, 1, 0, 0, 1, 1, 1, 0, 0, 1, 0,\n",
       "        0, 0, 0, 1, 1, 1, 0, 0, 0, 0, 0, 1, 1, 0, 0, 1, 0, 0, 1, 0, 1, 0,\n",
       "        0, 0, 0, 0, 0, 0, 0, 0, 0, 0, 0, 0, 0, 0, 0, 0, 0, 1, 0, 0, 0, 0,\n",
       "        0, 1, 1, 0, 0, 0, 1, 0, 1, 1, 0, 0, 0, 0, 0, 0, 1, 0, 1, 0, 0, 0,\n",
       "        0, 1, 0, 1, 0, 0, 0, 0, 0, 0, 1, 0, 0, 0, 0, 0, 0, 0, 0, 0, 0, 1,\n",
       "        0, 0, 0, 0, 0, 0, 0, 0, 0, 0, 0, 0, 0, 0, 1, 0, 0, 0, 1, 0, 1, 1,\n",
       "        0, 0, 0, 0, 0, 1, 0, 0, 0, 0, 0, 0, 1, 0, 0, 0, 0, 0, 1, 1, 0, 0,\n",
       "        0, 0, 0, 0, 1, 0, 0, 0, 0, 0, 1, 0, 0, 1, 0, 0, 0, 1, 0, 0, 0, 0,\n",
       "        0, 0, 0, 0, 0, 1, 0, 1, 0, 0, 0, 0, 0, 0, 0, 1, 1, 0, 0, 1, 0, 0,\n",
       "        0, 1, 0, 0, 0, 1, 0, 1, 1, 0, 0, 0, 0, 0, 0, 0, 0, 1, 0, 0, 0, 0,\n",
       "        0, 0, 0, 1, 0, 0, 1, 0, 0, 1, 1, 1, 0, 0, 0, 1, 0, 0, 0, 0, 0],\n",
       "       dtype=int64)]"
      ]
     },
     "execution_count": 269,
     "metadata": {},
     "output_type": "execute_result"
    }
   ],
   "source": [
    "result_list"
   ]
  },
  {
   "attachments": {},
   "cell_type": "markdown",
   "metadata": {},
   "source": [
    "### Acurária"
   ]
  },
  {
   "cell_type": "code",
   "execution_count": 270,
   "metadata": {},
   "outputs": [
    {
     "name": "stdout",
     "output_type": "stream",
     "text": [
      "1-NN\n",
      "Acurácia: 0.64639\n",
      "3-NN\n",
      "Acurácia: 0.67681\n",
      "5-NN\n",
      "Acurácia: 0.68441\n",
      "7-NN\n",
      "Acurácia: 0.68821\n",
      "9-NN\n",
      "Acurácia: 0.68821\n"
     ]
    }
   ],
   "source": [
    "for result, k in zip(result_list, k_list):\n",
    "    print(f'{k}-NN')\n",
    "    print(f'Acurácia: {accuracy_score(y_test1, result):.5f}')"
   ]
  },
  {
   "attachments": {},
   "cell_type": "markdown",
   "metadata": {},
   "source": [
    "### Precisão"
   ]
  },
  {
   "cell_type": "code",
   "execution_count": 272,
   "metadata": {},
   "outputs": [
    {
     "name": "stdout",
     "output_type": "stream",
     "text": [
      "1-NN\n",
      "Precisão: 0.47561\n",
      "3-NN\n",
      "Precisão: 0.52564\n",
      "5-NN\n",
      "Precisão: 0.54688\n",
      "7-NN\n",
      "Precisão: 0.56140\n",
      "9-NN\n",
      "Precisão: 0.56140\n"
     ]
    }
   ],
   "source": [
    "for result, k in zip(result_list, k_list):\n",
    "    print(f'{k}-NN')\n",
    "    print(f'Precisão: {precision_score(y_test1, result):.5f}')"
   ]
  },
  {
   "attachments": {},
   "cell_type": "markdown",
   "metadata": {},
   "source": [
    "### Sensibilidade"
   ]
  },
  {
   "cell_type": "code",
   "execution_count": 273,
   "metadata": {},
   "outputs": [
    {
     "name": "stdout",
     "output_type": "stream",
     "text": [
      "1-NN\n",
      "Sensibilidade: 0.43820\n",
      "3-NN\n",
      "Sensibilidade: 0.46067\n",
      "5-NN\n",
      "Sensibilidade: 0.39326\n",
      "7-NN\n",
      "Sensibilidade: 0.35955\n",
      "9-NN\n",
      "Sensibilidade: 0.35955\n"
     ]
    }
   ],
   "source": [
    "for result, k in zip(result_list, k_list):\n",
    "    print(f'{k}-NN')\n",
    "    print(f'Sensibilidade: {recall_score(y_test1, result):.5f}')"
   ]
  },
  {
   "attachments": {},
   "cell_type": "markdown",
   "metadata": {},
   "source": [
    "### Matriz Confusão"
   ]
  },
  {
   "cell_type": "code",
   "execution_count": 274,
   "metadata": {},
   "outputs": [
    {
     "name": "stdout",
     "output_type": "stream",
     "text": [
      "1-NN\n",
      "[[131  43]\n",
      " [ 50  39]]\n",
      "3-NN\n",
      "[[137  37]\n",
      " [ 48  41]]\n",
      "5-NN\n",
      "[[145  29]\n",
      " [ 54  35]]\n",
      "7-NN\n",
      "[[149  25]\n",
      " [ 57  32]]\n",
      "9-NN\n",
      "[[149  25]\n",
      " [ 57  32]]\n"
     ]
    }
   ],
   "source": [
    "for result, k in zip(result_list, k_list):\n",
    "    print(f\"{k}-NN\")\n",
    "    print(confusion_matrix(y_test1, result))"
   ]
  }
 ],
 "metadata": {
  "kernelspec": {
   "display_name": "base",
   "language": "python",
   "name": "python3"
  },
  "language_info": {
   "codemirror_mode": {
    "name": "ipython",
    "version": 3
   },
   "file_extension": ".py",
   "mimetype": "text/x-python",
   "name": "python",
   "nbconvert_exporter": "python",
   "pygments_lexer": "ipython3",
   "version": "3.10.9"
  },
  "orig_nbformat": 4
 },
 "nbformat": 4,
 "nbformat_minor": 2
}
