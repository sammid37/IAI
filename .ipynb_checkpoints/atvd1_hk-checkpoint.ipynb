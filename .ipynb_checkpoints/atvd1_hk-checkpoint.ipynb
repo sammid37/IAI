{
 "cells": [
  {
   "cell_type": "markdown",
   "id": "ec350c95-80ed-4234-9714-e63b102b940e",
   "metadata": {},
   "source": [
    "# Introdução a Inteligência Artificial\n",
    "\n",
    "Notebook dedicado para as aulas de pré-processamento de dados utilizando a base de dados \"British Birdsong\"."
   ]
  },
  {
   "cell_type": "code",
   "execution_count": 28,
   "id": "4f48b31f-020e-474f-b52d-67e651d5e4d4",
   "metadata": {},
   "outputs": [
    {
     "name": "stdout",
     "output_type": "stream",
     "text": [
      "Skipping, found downloaded files in \".\\british-birdsong-dataset\" (use force=True to force download)\n"
     ]
    }
   ],
   "source": [
    "import opendatasets as od\n",
    "import pandas as pd\n",
    "\n",
    "songbird = \"https://www.kaggle.com/datasets/rtatman/british-birdsong-dataset\"\n",
    "\n",
    "od.download(songbird)"
   ]
  },
  {
   "cell_type": "code",
   "execution_count": 37,
   "id": "febbfbba-c077-4f3f-8017-10b65971c1c6",
   "metadata": {},
   "outputs": [],
   "source": [
    "file =('british-birdsong-dataset/\\\n",
    "birdsong_metadata.csv')    "
   ]
  },
  {
   "cell_type": "code",
   "execution_count": 39,
   "id": "90ef1c9e-6623-467f-9e27-a6c7ea84d020",
   "metadata": {},
   "outputs": [
    {
     "data": {
      "text/html": [
       "<div>\n",
       "<style scoped>\n",
       "    .dataframe tbody tr th:only-of-type {\n",
       "        vertical-align: middle;\n",
       "    }\n",
       "\n",
       "    .dataframe tbody tr th {\n",
       "        vertical-align: top;\n",
       "    }\n",
       "\n",
       "    .dataframe thead th {\n",
       "        text-align: right;\n",
       "    }\n",
       "</style>\n",
       "<table border=\"1\" class=\"dataframe\">\n",
       "  <thead>\n",
       "    <tr style=\"text-align: right;\">\n",
       "      <th></th>\n",
       "      <th>file_id</th>\n",
       "      <th>genus</th>\n",
       "      <th>species</th>\n",
       "      <th>english_cname</th>\n",
       "      <th>who_provided_recording</th>\n",
       "      <th>country</th>\n",
       "      <th>latitude</th>\n",
       "      <th>longitute</th>\n",
       "      <th>type</th>\n",
       "      <th>license</th>\n",
       "    </tr>\n",
       "  </thead>\n",
       "  <tbody>\n",
       "    <tr>\n",
       "      <th>0</th>\n",
       "      <td>132608</td>\n",
       "      <td>Acanthis</td>\n",
       "      <td>flammea</td>\n",
       "      <td>Common Redpoll</td>\n",
       "      <td>Jarek Matusiak</td>\n",
       "      <td>Poland</td>\n",
       "      <td>50.7932</td>\n",
       "      <td>15.4995</td>\n",
       "      <td>female, male, song</td>\n",
       "      <td>http://creativecommons.org/licenses/by-nc-sa/3.0/</td>\n",
       "    </tr>\n",
       "    <tr>\n",
       "      <th>1</th>\n",
       "      <td>132611</td>\n",
       "      <td>Acanthis</td>\n",
       "      <td>flammea</td>\n",
       "      <td>Common Redpoll</td>\n",
       "      <td>Jarek Matusiak</td>\n",
       "      <td>Poland</td>\n",
       "      <td>50.7932</td>\n",
       "      <td>15.4995</td>\n",
       "      <td>flight call, male, song</td>\n",
       "      <td>http://creativecommons.org/licenses/by-nc-sa/3.0/</td>\n",
       "    </tr>\n",
       "    <tr>\n",
       "      <th>2</th>\n",
       "      <td>35068</td>\n",
       "      <td>Acanthis</td>\n",
       "      <td>flammea</td>\n",
       "      <td>Common Redpoll</td>\n",
       "      <td>Sander Bot</td>\n",
       "      <td>Netherlands</td>\n",
       "      <td>52.8176</td>\n",
       "      <td>6.4326</td>\n",
       "      <td>call, song</td>\n",
       "      <td>http://creativecommons.org/licenses/by-nc-nd/2.5/</td>\n",
       "    </tr>\n",
       "    <tr>\n",
       "      <th>3</th>\n",
       "      <td>82715</td>\n",
       "      <td>Acrocephalus</td>\n",
       "      <td>palustris</td>\n",
       "      <td>Marsh Warbler</td>\n",
       "      <td>Dougie Preston</td>\n",
       "      <td>United Kingdom</td>\n",
       "      <td>60.3539</td>\n",
       "      <td>-1.2689</td>\n",
       "      <td>Song</td>\n",
       "      <td>http://creativecommons.org/licenses/by-nc-nd/2.5/</td>\n",
       "    </tr>\n",
       "    <tr>\n",
       "      <th>4</th>\n",
       "      <td>64685</td>\n",
       "      <td>Acrocephalus</td>\n",
       "      <td>palustris</td>\n",
       "      <td>Marsh Warbler</td>\n",
       "      <td>Dougie Preston</td>\n",
       "      <td>United Kingdom</td>\n",
       "      <td>60.3539</td>\n",
       "      <td>-1.2689</td>\n",
       "      <td>Song</td>\n",
       "      <td>http://creativecommons.org/licenses/by-nc-nd/2.5/</td>\n",
       "    </tr>\n",
       "  </tbody>\n",
       "</table>\n",
       "</div>"
      ],
      "text/plain": [
       "   file_id         genus    species   english_cname who_provided_recording  \\\n",
       "0   132608      Acanthis    flammea  Common Redpoll         Jarek Matusiak   \n",
       "1   132611      Acanthis    flammea  Common Redpoll         Jarek Matusiak   \n",
       "2    35068      Acanthis    flammea  Common Redpoll             Sander Bot   \n",
       "3    82715  Acrocephalus  palustris   Marsh Warbler         Dougie Preston   \n",
       "4    64685  Acrocephalus  palustris   Marsh Warbler         Dougie Preston   \n",
       "\n",
       "          country  latitude  longitute                     type  \\\n",
       "0          Poland   50.7932    15.4995       female, male, song   \n",
       "1          Poland   50.7932    15.4995  flight call, male, song   \n",
       "2     Netherlands   52.8176     6.4326               call, song   \n",
       "3  United Kingdom   60.3539    -1.2689                     Song   \n",
       "4  United Kingdom   60.3539    -1.2689                     Song   \n",
       "\n",
       "                                             license  \n",
       "0  http://creativecommons.org/licenses/by-nc-sa/3.0/  \n",
       "1  http://creativecommons.org/licenses/by-nc-sa/3.0/  \n",
       "2  http://creativecommons.org/licenses/by-nc-nd/2.5/  \n",
       "3  http://creativecommons.org/licenses/by-nc-nd/2.5/  \n",
       "4  http://creativecommons.org/licenses/by-nc-nd/2.5/  "
      ]
     },
     "execution_count": 39,
     "metadata": {},
     "output_type": "execute_result"
    }
   ],
   "source": [
    "df = pd.read_csv(file)\n",
    "df.head()"
   ]
  },
  {
   "cell_type": "code",
   "execution_count": null,
   "id": "fcb98b74-78a3-4d48-8517-fae4cd13ceba",
   "metadata": {},
   "outputs": [],
   "source": []
  }
 ],
 "metadata": {
  "kernelspec": {
   "display_name": "Python 3 (ipykernel)",
   "language": "python",
   "name": "python3"
  },
  "language_info": {
   "codemirror_mode": {
    "name": "ipython",
    "version": 3
   },
   "file_extension": ".py",
   "mimetype": "text/x-python",
   "name": "python",
   "nbconvert_exporter": "python",
   "pygments_lexer": "ipython3",
   "version": "3.10.9"
  }
 },
 "nbformat": 4,
 "nbformat_minor": 5
}
